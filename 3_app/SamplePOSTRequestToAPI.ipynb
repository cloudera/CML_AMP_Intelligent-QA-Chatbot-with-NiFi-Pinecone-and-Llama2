{
 "cells": [
  {
   "cell_type": "code",
   "execution_count": null,
   "id": "2e367ac4-5e1c-4aba-9ce1-60113f4c7fbf",
   "metadata": {
    "tags": []
   },
   "outputs": [
    {
     "name": "stdout",
     "output_type": "stream",
     "text": [
      "https://127.0.0.1:8090/\n"
     ]
    }
   ],
   "source": [
    "import requests\n",
    "import json\n",
    "import os\n",
    "\n",
    "# URL to send the POST request to\n",
    "external_url = \"https://ml-b74f8940-b97.go01-dem.ylcu-atmi.cloudera.site/\"\n",
    "internal_url = \"https://127.0.0.1:\" + str(os.environ['CDSW_APP_PORT']) + \"/\"\n",
    "\n",
    "# Choose which URL to use\n",
    "url = internal_url\n",
    "\n",
    "# Headers for the POST request\n",
    "headers = {\n",
    "    \"Content-Type\": \"application/json\"\n",
    "}\n",
    "\n",
    "# JSON Body for the POST request\n",
    "payload = {\n",
    "    \"inputs\": \"What is Cloudera Data Science Workbench?\",\n",
    "    \"parameters\": {\n",
    "        \"temperature\": 1,\n",
    "        \"max_tokens\": 10\n",
    "    }\n",
    "}\n",
    "\n",
    "# Convert Python dictionary to JSON\n",
    "payload_json = json.dumps(payload)\n",
    "\n",
    "# Make the POST request\n",
    "response = requests.post(url, headers=headers, data=payload_json)\n",
    "\n",
    "# Check if the request was successful\n",
    "if response.status_code == 200:\n",
    "    print(f\"Success! Received response: {response.json()}\")\n",
    "else:\n",
    "    print(f\"Failed to make request. Status code: {response.status_code}, Response: {response.text}\")\n"
   ]
  }
 ],
 "metadata": {
  "kernelspec": {
   "display_name": "Python 3 (ipykernel)",
   "language": "python",
   "name": "python3"
  },
  "language_info": {
   "codemirror_mode": {
    "name": "ipython",
    "version": 3
   },
   "file_extension": ".py",
   "mimetype": "text/x-python",
   "name": "python",
   "nbconvert_exporter": "python",
   "pygments_lexer": "ipython3",
   "version": "3.9.16"
  }
 },
 "nbformat": 4,
 "nbformat_minor": 5
}
