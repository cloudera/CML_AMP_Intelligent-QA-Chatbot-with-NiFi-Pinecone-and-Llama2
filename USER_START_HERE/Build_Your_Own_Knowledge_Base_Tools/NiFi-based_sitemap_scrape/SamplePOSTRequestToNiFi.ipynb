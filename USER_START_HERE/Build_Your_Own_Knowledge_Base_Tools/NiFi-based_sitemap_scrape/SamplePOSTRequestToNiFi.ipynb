{
 "cells": [
  {
   "cell_type": "code",
   "execution_count": null,
   "metadata": {},
   "outputs": [],
   "source": [
    "import requests\n",
    "import json\n",
    "import os\n",
    "\n",
    "# URL to send the POST request to (form your nifi URL in the same manner, including the port and /sitemap endpoint)\n",
    "# You will want to swap these two variables with your own\n",
    "nifi_url = \"nifi-to-custom-kb.inbound.dfx.tb5bymxw.ylcu-atmi.cloudera.site:8091/sitemap\"\n",
    "sitemap_url = \"https://docs.cloudera.com/sitemap.xml\"\n",
    "\n",
    "\n",
    "# Headers for the POST request\n",
    "headers = {\n",
    "    \"Content-Type\": \"application/json\"\n",
    "}\n",
    "\n",
    "# JSON Body for the POST request\n",
    "payload = {\n",
    "    \"sitemap\": sitemap_url,\n",
    "}\n",
    "\n",
    "# Convert Python dictionary to JSON\n",
    "payload_json = json.dumps(payload)\n",
    "\n",
    "# Make the POST request\n",
    "response = requests.post(nifi_url, headers=headers, data=payload_json)\n",
    "\n",
    "# Check if the request was successful\n",
    "if response.status_code == 200:\n",
    "    print(f\"Success! Received response: {response.json()}\")\n",
    "else:\n",
    "    print(f\"Failed to make request. Status code: {response.status_code}, Response: {response.text}\")\n"
   ]
  }
 ],
 "metadata": {
  "language_info": {
   "name": "python"
  },
  "orig_nbformat": 4
 },
 "nbformat": 4,
 "nbformat_minor": 2
}
