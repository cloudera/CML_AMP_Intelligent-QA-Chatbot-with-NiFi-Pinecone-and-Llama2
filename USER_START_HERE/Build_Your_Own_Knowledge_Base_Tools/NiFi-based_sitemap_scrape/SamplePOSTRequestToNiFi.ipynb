{
 "cells": [
  {
   "cell_type": "code",
   "execution_count": null,
   "metadata": {},
   "outputs": [],
   "source": [
    "import requests\n",
    "import json\n",
    "import os\n",
    "\n",
    "# URL to send the POST request to (form your nifi URL in the same manner, including the port and /sitemap endpoint)\n",
    "# You will want to swap these two variables with your own\n",
    "nifi_url = \"http://nifi-to-custom-kb.inbound.dfx.tb5bymxw.ylcu-atmi.cloudera.site:8091/sitemap\"\n",
    "sitemap_url = \"https://docs.cloudera.com/sitemap.xml\"\n",
    "\n",
    "\n",
    "# Headers for the POST request\n",
    "headers = {\n",
    "    \"Content-Type\": \"application/json\"\n",
    "}\n",
    "\n",
    "payload = sitemap_url\n",
    "\n",
    "# Convert Python dictionary to JSON\n",
    "payload_json = json.dumps(payload)\n",
    "\n",
    "# Make the POST request\n",
    "response = requests.post(nifi_url, headers=headers, params=payload_json)\n",
    "\n",
    "# Check if the request was successful\n",
    "if response.status_code == 200:\n",
    "    print(f\"Success! Received response: {response.json()}\")\n",
    "else:\n",
    "    print(f\"Failed to make request. Status code: {response.status_code}, Response: {response.text}\")"
   ]
  }
 ],
 "metadata": {
  "kernelspec": {
   "display_name": "Python 3 (ipykernel)",
   "language": "python",
   "name": "python3"
  },
  "language_info": {
   "codemirror_mode": {
    "name": "ipython",
    "version": 3
   },
   "file_extension": ".py",
   "mimetype": "text/x-python",
   "name": "python",
   "nbconvert_exporter": "python",
   "pygments_lexer": "ipython3",
   "version": "3.9.16"
  }
 },
 "nbformat": 4,
 "nbformat_minor": 4
}
